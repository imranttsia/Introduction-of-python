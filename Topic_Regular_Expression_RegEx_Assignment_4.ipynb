{
  "nbformat": 4,
  "nbformat_minor": 0,
  "metadata": {
    "colab": {
      "provenance": [],
      "authorship_tag": "ABX9TyM4U7vlFO/6IStnga15jW9W",
      "include_colab_link": true
    },
    "kernelspec": {
      "name": "python3",
      "display_name": "Python 3"
    },
    "language_info": {
      "name": "python"
    }
  },
  "cells": [
    {
      "cell_type": "markdown",
      "metadata": {
        "id": "view-in-github",
        "colab_type": "text"
      },
      "source": [
        "<a href=\"https://colab.research.google.com/github/imranttsia/Introduction-of-python/blob/main/Topic_Regular_Expression_RegEx_Assignment_4.ipynb\" target=\"_parent\"><img src=\"https://colab.research.google.com/assets/colab-badge.svg\" alt=\"Open In Colab\"/></a>"
      ]
    },
    {
      "cell_type": "markdown",
      "source": [
        "Assignment 1: Extracting Phone Numbers\n",
        "\n",
        "Raw Text: Extract all valid Pakistani phone numbers from a given text.\n",
        "\n",
        "Text: Please contact me at 0301-1234567 or 042-35678901 for further details."
      ],
      "metadata": {
        "id": "iO2ZpJe3jrz3"
      }
    },
    {
      "cell_type": "code",
      "execution_count": 1,
      "metadata": {
        "colab": {
          "base_uri": "https://localhost:8080/"
        },
        "id": "q0etA3fYjV1e",
        "outputId": "80542556-e969-4da2-bdf0-786d58d3e74a"
      },
      "outputs": [
        {
          "output_type": "execute_result",
          "data": {
            "text/plain": [
              "['0301-1234567', '042-35678901']"
            ]
          },
          "metadata": {},
          "execution_count": 1
        }
      ],
      "source": [
        "import re\n",
        "text_1= \"\"\"\n",
        "Please contact me at 0301-1234567 or 042-35678901 for further details.\n",
        "\"\"\"\n",
        "pattern_1 = r\"\\b(\\d{3,4}\\-\\d{7,8})\\b\"\n",
        "phone_number= re.findall(pattern_1, text_1, re.MULTILINE)\n",
        "phone_number"
      ]
    },
    {
      "cell_type": "markdown",
      "source": [
        "Assignment 2: Validating Email Addresses\n",
        "\n",
        "Raw Text: Validate email addresses according to Pakistani domain extensions (.pk).\n",
        "\n",
        "Text: Contact us at info@example.com or support@domain.pk for assistance."
      ],
      "metadata": {
        "id": "p08y6Wlwjw7W"
      }
    },
    {
      "cell_type": "code",
      "source": [
        "text_2= \"\"\"\n",
        "Contact us at info@example.com or support@domain.pk for assistance.\n",
        "\"\"\"\n",
        "pattern_2 = r\"\\b([\\w\\-\\.]+@[\\w]+\\.pk)\\b\"\n",
        "\n",
        "pakistani_email = re.findall(pattern_2,text_2,re.MULTILINE)\n",
        "pakistani_email"
      ],
      "metadata": {
        "colab": {
          "base_uri": "https://localhost:8080/"
        },
        "id": "CH3LOMQ4jxHe",
        "outputId": "aa70aba2-5d34-4211-ac8c-7b0f4434e5b6"
      },
      "execution_count": 2,
      "outputs": [
        {
          "output_type": "execute_result",
          "data": {
            "text/plain": [
              "['support@domain.pk']"
            ]
          },
          "metadata": {},
          "execution_count": 2
        }
      ]
    },
    {
      "cell_type": "markdown",
      "source": [
        "Assignment 3: Extracting CNIC Numbers\n",
        "\n",
        "Raw Text: Extract all Pakistani CNIC (Computerized National Identity Card) numbers from a given text.\n",
        "\n",
        "Text: My CNIC is 12345-6789012-3 and another one is 34567-8901234-5."
      ],
      "metadata": {
        "id": "qdmzV0wMjxT1"
      }
    },
    {
      "cell_type": "code",
      "source": [
        "text_3 = \"\"\"\n",
        "My CNIC is 12345-6789012-3 and another one is 34567-8901234-5.\n",
        "\"\"\"\n",
        "pattern_3 = r\"\\b(\\d{5}\\-\\d{7}\\-\\d)\"\n",
        "pakistani_cnic = re.findall(pattern_3,text_3,re.MULTILINE)\n",
        "pakistani_cnic"
      ],
      "metadata": {
        "colab": {
          "base_uri": "https://localhost:8080/"
        },
        "id": "ioPhCDFWjxiq",
        "outputId": "2482f62a-3bdb-4a98-a90e-27755ef821ac"
      },
      "execution_count": 3,
      "outputs": [
        {
          "output_type": "execute_result",
          "data": {
            "text/plain": [
              "['12345-6789012-3', '34567-8901234-5']"
            ]
          },
          "metadata": {},
          "execution_count": 3
        }
      ]
    },
    {
      "cell_type": "markdown",
      "source": [
        "Assignment 4: Identifying Urdu Words\n",
        "\n",
        "Raw Text: Identify and extract Urdu words from a mixed English-Urdu text.\n",
        "\n",
        "Text: یہ sentence میں کچھ English words بھی ہیں۔"
      ],
      "metadata": {
        "id": "h5fUfunhjxuU"
      }
    },
    {
      "cell_type": "code",
      "source": [
        "text_4 = \"\"\"\n",
        " یہ sentence میں کچھ English words بھی ہیں۔\n",
        "\"\"\"\n",
        "\n",
        "pattern_4 = r\"\\b([^\\s\\-a-zA-Z]+\\b)\"\n",
        "\n",
        "urdu_text = re.findall(pattern_4,text_4,re.MULTILINE)\n",
        "urdu_text"
      ],
      "metadata": {
        "colab": {
          "base_uri": "https://localhost:8080/"
        },
        "id": "WkqF4vPmjx6m",
        "outputId": "08071b3f-e073-4cf2-fad6-7d8148d327ea"
      },
      "execution_count": 4,
      "outputs": [
        {
          "output_type": "execute_result",
          "data": {
            "text/plain": [
              "['یہ', 'میں', 'کچھ', 'بھی', 'ہیں']"
            ]
          },
          "metadata": {},
          "execution_count": 4
        }
      ]
    },
    {
      "cell_type": "markdown",
      "source": [
        "Assignment 5: Finding Dates\n",
        "\n",
        "Raw Text: Find and extract dates in the format DD-MM-YYYY from a given text.\n",
        "\n",
        "Text: The event will take place on 15-08-2023 and 23-09-2023."
      ],
      "metadata": {
        "id": "ieT2GkDcjyGH"
      }
    },
    {
      "cell_type": "code",
      "source": [
        "text_5 = \"\"\"\n",
        "The event will take place on 15-08-2023 and 23-09-2023.\n",
        "\"\"\"\n",
        "pattern_5 = r\"\\b(\\d{1,2}\\-\\d{1,2}\\-\\d{4})\\b\"\n",
        "\n",
        "dates = re.findall(pattern_5,text_5,re.MULTILINE)\n",
        "dates"
      ],
      "metadata": {
        "colab": {
          "base_uri": "https://localhost:8080/"
        },
        "id": "mm-C7dQmjySo",
        "outputId": "c325d1cb-c673-4a9c-be34-37ef0f671a0e"
      },
      "execution_count": 5,
      "outputs": [
        {
          "output_type": "execute_result",
          "data": {
            "text/plain": [
              "['15-08-2023', '23-09-2023']"
            ]
          },
          "metadata": {},
          "execution_count": 5
        }
      ]
    },
    {
      "cell_type": "markdown",
      "source": [
        "Assignment 6: Extracting URLs\n",
        "\n",
        "Raw Text: Extract all URLs from a text that belong to Pakistani domains.\n",
        "\n",
        "Text: Visit http://www.example.pk or https://website.com.pk for more information."
      ],
      "metadata": {
        "id": "vz8HTUaNjye1"
      }
    },
    {
      "cell_type": "code",
      "source": [
        "text_6 = \"\"\"\n",
        "Visit http://www.example.pk or https://website.com.pk for more information.\n",
        "\"\"\"\n",
        "pattern_6 = r\"\\b([https://]+[\\w]+\\.[\\w]+.pk)\\b\"\n",
        "\n",
        "url_pk = re.findall(pattern_6, text_6, re.MULTILINE)\n",
        "url_pk"
      ],
      "metadata": {
        "colab": {
          "base_uri": "https://localhost:8080/"
        },
        "id": "7Sn8YOcNjzyM",
        "outputId": "bf5bdfa1-dba0-4c69-8486-1d46e374723b"
      },
      "execution_count": 6,
      "outputs": [
        {
          "output_type": "execute_result",
          "data": {
            "text/plain": [
              "['http://www.example.pk', 'https://website.com.pk']"
            ]
          },
          "metadata": {},
          "execution_count": 6
        }
      ]
    },
    {
      "cell_type": "markdown",
      "source": [
        "Assignment 7: Analyzing Currency\n",
        "\n",
        "Raw Text: Extract and analyze currency amounts in Pakistani Rupees (PKR) from a given text.\n",
        "\n",
        "Text: The product costs PKR 1500, while the deluxe version is priced at Rs. 2500."
      ],
      "metadata": {
        "id": "TQYSWueTjyp9"
      }
    },
    {
      "cell_type": "code",
      "source": [
        "text_7 = \"\"\"\n",
        "The product costs PKR 1500, while the deluxe version is priced at Rs. 2500.\n",
        "\"\"\"\n",
        "pattern_7 = r\"\\b(?:[PKRs]+\\.?\\s(\\d{4}))\"\n",
        "\n",
        "rupees = re.findall(pattern_7,text_7,re.MULTILINE)\n",
        "rupees"
      ],
      "metadata": {
        "colab": {
          "base_uri": "https://localhost:8080/"
        },
        "id": "raMpKqR3jy42",
        "outputId": "325728f7-1b5b-4ff6-ac74-190bb864e234"
      },
      "execution_count": 7,
      "outputs": [
        {
          "output_type": "execute_result",
          "data": {
            "text/plain": [
              "['1500', '2500']"
            ]
          },
          "metadata": {},
          "execution_count": 7
        }
      ]
    },
    {
      "cell_type": "markdown",
      "source": [
        "Assignment 8: Removing Punctuation\n",
        "\n",
        "Raw Text: Remove all punctuation marks from a text while preserving Urdu characters.\n",
        "\n",
        "Text: کیا! آپ, یہاں؟"
      ],
      "metadata": {
        "id": "78s5Xaxwkwt0"
      }
    },
    {
      "cell_type": "code",
      "source": [
        "text_8=\"\"\"\n",
        "کیا! آپ, یہاں؟\n",
        "\"\"\"\n",
        "pattern_8 = r\"\\b([^\\W]+)\"\n",
        "\n",
        "urdu_without_punctuation = re.findall(pattern_8,text_8,re.MULTILINE)\n",
        "urdu_without_punctuation"
      ],
      "metadata": {
        "colab": {
          "base_uri": "https://localhost:8080/"
        },
        "id": "bMlKUzOvkw5Q",
        "outputId": "9f08dc38-c1e8-4267-d3e0-a73f3d8de825"
      },
      "execution_count": 8,
      "outputs": [
        {
          "output_type": "execute_result",
          "data": {
            "text/plain": [
              "['کیا', 'آپ', 'یہاں']"
            ]
          },
          "metadata": {},
          "execution_count": 8
        }
      ]
    },
    {
      "cell_type": "markdown",
      "source": [
        "Assignment 9: Extracting City Names\n",
        "Raw Text: Extract names of Pakistani cities from a given text.\n",
        "\n",
        "Text: Lahore, Karachi, Islamabad, and Peshawar are major cities of Pakistan."
      ],
      "metadata": {
        "id": "KizAtGjNkxHA"
      }
    },
    {
      "cell_type": "code",
      "source": [
        "text_9 = \"\"\"\n",
        "Lahore, Karachi, Islamabad, and Peshawar are major cities of Pakistan.\n",
        "\"\"\"\n",
        "pattern_9 = r\"\\b(?:([\\w]+)\\,\\s([\\w]+)\\,\\s([\\w]+)\\,\\sand\\s([\\w]+))\\b\"\n",
        "\n",
        "city_pakistan = re.findall(pattern_9,text_9,re.MULTILINE)\n",
        "city_pakistan"
      ],
      "metadata": {
        "colab": {
          "base_uri": "https://localhost:8080/"
        },
        "id": "DbhPpNjdkxTR",
        "outputId": "5ade6a7a-8e40-4ad8-dbc9-adf24273ecdf"
      },
      "execution_count": 9,
      "outputs": [
        {
          "output_type": "execute_result",
          "data": {
            "text/plain": [
              "[('Lahore', 'Karachi', 'Islamabad', 'Peshawar')]"
            ]
          },
          "metadata": {},
          "execution_count": 9
        }
      ]
    },
    {
      "cell_type": "markdown",
      "source": [
        "Assignment 10: Analyzing Vehicle Numbers\n",
        "\n",
        "Raw Text: Identify and extract Pakistani vehicle registration numbers (e.g., ABC-123) from a text.\n",
        "\n",
        "Text: I saw a car with the number plate LEA-567 near the market."
      ],
      "metadata": {
        "id": "cz5wFf-jlBr5"
      }
    },
    {
      "cell_type": "code",
      "source": [
        "text_10 = \"\"\"\n",
        "I saw a car with the number plate LEA-567 near the market.\n",
        "\"\"\"\n",
        "pattern_10 = r\"\\b(\\D{3}\\-\\d{3})\\b\"\n",
        "\n",
        "registeration_number = re.findall(pattern_10,text_10,re.MULTILINE)\n",
        "registeration_number"
      ],
      "metadata": {
        "colab": {
          "base_uri": "https://localhost:8080/"
        },
        "id": "ZkBb7cT-lB5t",
        "outputId": "bddc66ad-31fd-45b3-8fdf-674e80a50f50"
      },
      "execution_count": 10,
      "outputs": [
        {
          "output_type": "execute_result",
          "data": {
            "text/plain": [
              "['LEA-567']"
            ]
          },
          "metadata": {},
          "execution_count": 10
        }
      ]
    }
  ]
}