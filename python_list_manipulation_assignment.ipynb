{
  "nbformat": 4,
  "nbformat_minor": 0,
  "metadata": {
    "colab": {
      "provenance": []
    },
    "kernelspec": {
      "name": "python3",
      "display_name": "Python 3"
    },
    "language_info": {
      "name": "python"
    }
  },
  "cells": [
    {
      "cell_type": "markdown",
      "source": [
        "# question #1\n",
        "\n",
        "a)create list named fruits\n",
        "\n",
        "b)add pear to the end of te list\n",
        "\n",
        "c)insert mango at the 2nd position of  the list\n",
        "\n",
        "d)remove orange from the list"
      ],
      "metadata": {
        "id": "9E3BRzDrTIBI"
      }
    },
    {
      "cell_type": "code",
      "execution_count": 1,
      "metadata": {
        "id": "i_tWyI1_S8Nx"
      },
      "outputs": [],
      "source": [
        "fruit=[\"apple\",\"banana\",\"orange\",\"grape\",\"kiwi\"]"
      ]
    },
    {
      "cell_type": "code",
      "source": [
        "fruit=[\"apple\",\"banana\",\"orange\",\"grape\",\"kiwi\"]\n",
        "fruit.append(\"pear\")\n",
        "print(fruit)"
      ],
      "metadata": {
        "colab": {
          "base_uri": "https://localhost:8080/"
        },
        "id": "EMHEYlspTgC7",
        "outputId": "1b9c34ec-9345-4bb6-9861-ad33ed98e869"
      },
      "execution_count": 2,
      "outputs": [
        {
          "output_type": "stream",
          "name": "stdout",
          "text": [
            "['apple', 'banana', 'orange', 'grape', 'kiwi', 'pear']\n"
          ]
        }
      ]
    },
    {
      "cell_type": "code",
      "source": [
        "fruit=[\"apple\",\"banana\",\"orange\",\"grape\",\"kiwi\"]\n",
        "fruit.insert(2,\"mango\")\n",
        "print(fruit)"
      ],
      "metadata": {
        "colab": {
          "base_uri": "https://localhost:8080/"
        },
        "id": "eae9tOvcTgFV",
        "outputId": "7a05d671-49d5-412b-e5df-44df40e95aeb"
      },
      "execution_count": 3,
      "outputs": [
        {
          "output_type": "stream",
          "name": "stdout",
          "text": [
            "['apple', 'banana', 'mango', 'orange', 'grape', 'kiwi']\n"
          ]
        }
      ]
    },
    {
      "cell_type": "code",
      "source": [
        "fruit=[\"apple\",\"banana\",\"mango\",\"orange\",\"grape\",\"kiwi\"]\n",
        "fruit.remove(\"orange\")\n",
        "print(fruit)"
      ],
      "metadata": {
        "colab": {
          "base_uri": "https://localhost:8080/"
        },
        "id": "4LiSdE58TgI5",
        "outputId": "7e90ae71-bcba-4358-841d-26f21598b860"
      },
      "execution_count": 4,
      "outputs": [
        {
          "output_type": "stream",
          "name": "stdout",
          "text": [
            "['apple', 'banana', 'mango', 'grape', 'kiwi']\n"
          ]
        }
      ]
    },
    {
      "cell_type": "markdown",
      "source": [
        "#  question#2\n",
        "\n",
        "# slicing and indexing\n",
        "\n",
        "a)create list named numbers containing the integers from  0 to 9\n",
        "\n",
        "b)print the element at index 3\n",
        "\n",
        "c)print asublist contaning the elements from index 2 to 6 inclusive\n",
        "\n",
        "d)print the last three elements using negative indexing"
      ],
      "metadata": {
        "id": "zusmOXevTozw"
      }
    },
    {
      "cell_type": "code",
      "source": [
        "numbers=[0,1,2,3,4,5,6,7,8,9]\n"
      ],
      "metadata": {
        "id": "JyqQqnMcT1ez"
      },
      "execution_count": 5,
      "outputs": []
    },
    {
      "cell_type": "code",
      "source": [
        "numbers=[0,1,2,3,4,5,6,7,8,9]\n",
        "print(numbers[3])"
      ],
      "metadata": {
        "colab": {
          "base_uri": "https://localhost:8080/"
        },
        "id": "lgSnQnPiT1wQ",
        "outputId": "2e712ddd-3732-460c-937b-43cac9343fcf"
      },
      "execution_count": 6,
      "outputs": [
        {
          "output_type": "stream",
          "name": "stdout",
          "text": [
            "3\n"
          ]
        }
      ]
    },
    {
      "cell_type": "code",
      "source": [
        "numbers=[0,1,2,3,4,5,6,7,8,9]\n",
        "print(numbers[2:7])"
      ],
      "metadata": {
        "colab": {
          "base_uri": "https://localhost:8080/"
        },
        "id": "Z-5PNjYTUB_o",
        "outputId": "eb18953f-7a91-4037-b5e9-f0a10c96f010"
      },
      "execution_count": 7,
      "outputs": [
        {
          "output_type": "stream",
          "name": "stdout",
          "text": [
            "[2, 3, 4, 5, 6]\n"
          ]
        }
      ]
    },
    {
      "cell_type": "code",
      "source": [
        "numbers=[0,1,2,3,4,5,6,7,8,9]\n",
        "print(numbers[-3:])"
      ],
      "metadata": {
        "colab": {
          "base_uri": "https://localhost:8080/"
        },
        "id": "hNhuJbgBUCcv",
        "outputId": "f49f51fb-477e-437f-b96e-d3e4b80c1188"
      },
      "execution_count": 8,
      "outputs": [
        {
          "output_type": "stream",
          "name": "stdout",
          "text": [
            "[7, 8, 9]\n"
          ]
        }
      ]
    },
    {
      "cell_type": "markdown",
      "source": [
        "# question## 3\n",
        "\n",
        "a)create list named squares using list comprehension that contains there squares numbers from 1 to 10\n",
        "\n",
        "b)create list named even_squares using a list comprehensionthat contains te square of even numbers squares from the square list."
      ],
      "metadata": {
        "id": "1nHoOkY7ULsu"
      }
    },
    {
      "cell_type": "code",
      "source": [
        "\n",
        "numbers=[0,1,2,3,4,5,6,7,8,9]\n",
        "for i in numbers:\n",
        "    print(i*i)"
      ],
      "metadata": {
        "colab": {
          "base_uri": "https://localhost:8080/"
        },
        "id": "OiIt52HYUNlc",
        "outputId": "a5460906-f0dc-422b-9a52-c1b39743a78c"
      },
      "execution_count": 9,
      "outputs": [
        {
          "output_type": "stream",
          "name": "stdout",
          "text": [
            "0\n",
            "1\n",
            "4\n",
            "9\n",
            "16\n",
            "25\n",
            "36\n",
            "49\n",
            "64\n",
            "81\n"
          ]
        }
      ]
    },
    {
      "cell_type": "code",
      "source": [
        "squares=[x*x for x in numbers]\n",
        "print(squares)"
      ],
      "metadata": {
        "colab": {
          "base_uri": "https://localhost:8080/"
        },
        "id": "qYYK8rcyUNox",
        "outputId": "309b7ef7-09ea-4c4e-95ed-ee36b83b2b70"
      },
      "execution_count": 10,
      "outputs": [
        {
          "output_type": "stream",
          "name": "stdout",
          "text": [
            "[0, 1, 4, 9, 16, 25, 36, 49, 64, 81]\n"
          ]
        }
      ]
    },
    {
      "cell_type": "code",
      "source": [
        "even_squares=[x*x for x in numbers if x%2==0]\n",
        "print(even_squares)"
      ],
      "metadata": {
        "colab": {
          "base_uri": "https://localhost:8080/"
        },
        "id": "mT4OQgKBUT0I",
        "outputId": "310229c2-3360-43dd-d4fa-9cfef3250bfb"
      },
      "execution_count": 11,
      "outputs": [
        {
          "output_type": "stream",
          "name": "stdout",
          "text": [
            "[0, 4, 16, 36, 64]\n"
          ]
        }
      ]
    },
    {
      "cell_type": "code",
      "source": [
        "odd_squares=[x*x for x in numbers if x%2==1]\n",
        "print(odd_squares)"
      ],
      "metadata": {
        "colab": {
          "base_uri": "https://localhost:8080/"
        },
        "id": "K3MFDRcvUX2g",
        "outputId": "7d59ed12-055f-424d-b9fa-ed408d402cbb"
      },
      "execution_count": 12,
      "outputs": [
        {
          "output_type": "stream",
          "name": "stdout",
          "text": [
            "[1, 9, 25, 49, 81]\n"
          ]
        }
      ]
    },
    {
      "cell_type": "markdown",
      "source": [
        "# question#4\n",
        "\n",
        "a)creatwe list  named colors containing items red, green, blue ,yellow,purple\n",
        "\n",
        "b)swap the 1st and last elements of  the list\n",
        "\n",
        "c)reverse the order of  the list\n",
        "\n",
        "d)remove the second and third   elements of  the list"
      ],
      "metadata": {
        "id": "DosDstARUb9E"
      }
    },
    {
      "cell_type": "code",
      "source": [
        "colors=[\"red\",\"green\",\"blue\",\"yellow\",\"purple\"]\n"
      ],
      "metadata": {
        "id": "Wd4WhKz2Ui-1"
      },
      "execution_count": 13,
      "outputs": []
    },
    {
      "cell_type": "code",
      "source": [
        "colors=[\"red\",\"green\",\"blue\",\"yellow\",\"purple\"]\n",
        "element1=colors[0]\n",
        "element2=colors[-1]\n",
        "colors[0]=element2\n",
        "colors[-1]=element1\n",
        "print(colors)"
      ],
      "metadata": {
        "colab": {
          "base_uri": "https://localhost:8080/"
        },
        "id": "XpsUh5wDUjHF",
        "outputId": "3902edf6-7396-442e-97fb-3d6ccdc8e505"
      },
      "execution_count": 14,
      "outputs": [
        {
          "output_type": "stream",
          "name": "stdout",
          "text": [
            "['purple', 'green', 'blue', 'yellow', 'red']\n"
          ]
        }
      ]
    },
    {
      "cell_type": "code",
      "source": [
        "colors=[\"red\",\"green\",\"blue\",\"yellow\",\"purple\"]\n",
        "colors.remove(\"green\")\n",
        "print(colors)"
      ],
      "metadata": {
        "colab": {
          "base_uri": "https://localhost:8080/"
        },
        "id": "522ceRmtUjJu",
        "outputId": "8b480992-4bf1-4e9d-8243-58f3112e3d84"
      },
      "execution_count": 15,
      "outputs": [
        {
          "output_type": "stream",
          "name": "stdout",
          "text": [
            "['red', 'blue', 'yellow', 'purple']\n"
          ]
        }
      ]
    },
    {
      "cell_type": "code",
      "source": [
        "colors.remove(\"blue\")\n",
        "print(colors)"
      ],
      "metadata": {
        "colab": {
          "base_uri": "https://localhost:8080/"
        },
        "id": "xIiDa5nJUjNH",
        "outputId": "890916f6-c3c9-4c1c-a479-d907c2511062"
      },
      "execution_count": 16,
      "outputs": [
        {
          "output_type": "stream",
          "name": "stdout",
          "text": [
            "['red', 'yellow', 'purple']\n"
          ]
        }
      ]
    },
    {
      "cell_type": "code",
      "source": [
        "colors=[\"red\",\"green\",\"blue\",\"yellow\",\"purple\"]\n",
        "colors.reverse()\n",
        "print(colors)"
      ],
      "metadata": {
        "colab": {
          "base_uri": "https://localhost:8080/"
        },
        "id": "nwRCVV7HUwm5",
        "outputId": "e41004ea-e564-4ff0-dac2-d2c0fb2b4cb7"
      },
      "execution_count": 17,
      "outputs": [
        {
          "output_type": "stream",
          "name": "stdout",
          "text": [
            "['purple', 'yellow', 'blue', 'green', 'red']\n"
          ]
        }
      ]
    },
    {
      "cell_type": "markdown",
      "source": [
        "# question #5\n",
        "\n",
        "a)create list  named lettres containing the lettres from a to j\n",
        "\n",
        "b)using slicing create list first half containing the ist half lettres list\n",
        "\n",
        "c)using slicing create new  list  last theree containing the last  three lettres list"
      ],
      "metadata": {
        "id": "EQTvTstpU1DZ"
      }
    },
    {
      "cell_type": "code",
      "source": [
        "letters=[\"a\",\"b\",\"c\",\"d\",\"e\",\"f\",\"g\",\"h\",\"i\"]\n"
      ],
      "metadata": {
        "id": "IMkgSh2oU8vE"
      },
      "execution_count": 18,
      "outputs": []
    },
    {
      "cell_type": "code",
      "source": [
        "letters=[\"a\",\"b\",\"c\",\"d\",\"e\",\"f\",\"g\",\"h\",\"i\"]\n",
        "print(letters[0:5])"
      ],
      "metadata": {
        "colab": {
          "base_uri": "https://localhost:8080/"
        },
        "id": "M0iR5jByU87X",
        "outputId": "1755394f-9fed-47d8-f699-ae19fb35838a"
      },
      "execution_count": 19,
      "outputs": [
        {
          "output_type": "stream",
          "name": "stdout",
          "text": [
            "['a', 'b', 'c', 'd', 'e']\n"
          ]
        }
      ]
    },
    {
      "cell_type": "code",
      "source": [
        "letters=[\"a\",\"b\",\"c\",\"d\",\"e\",\"f\",\"g\",\"h\",\"i\"]\n",
        "print(letters[-3:])"
      ],
      "metadata": {
        "colab": {
          "base_uri": "https://localhost:8080/"
        },
        "id": "PINdd7tIVXY-",
        "outputId": "cc602919-43f7-47dc-c4f8-fd63377afe8a"
      },
      "execution_count": 20,
      "outputs": [
        {
          "output_type": "stream",
          "name": "stdout",
          "text": [
            "['g', 'h', 'i']\n"
          ]
        }
      ]
    },
    {
      "cell_type": "markdown",
      "source": [
        "# question #6\n",
        "\n",
        "a)create a nested luist named  matrix following  rows\n",
        "\n",
        "[1,2,3]\n",
        "\n",
        "[4,5,6]\n",
        "\n",
        "[7,8,9]\n",
        "\n",
        "b)print the elements in the  second row and  3rd  coloumn\n",
        "\n",
        "c)use nested indexing to  change the  value  at  the  second row and 1st\n",
        "\n",
        "coloumn  to  0"
      ],
      "metadata": {
        "id": "gdhHDbWBVbZd"
      }
    },
    {
      "cell_type": "code",
      "source": [
        "matrix=[[1,2,3],[4,5,6],[7,8,9]]\n",
        "print(matrix[1][2])"
      ],
      "metadata": {
        "colab": {
          "base_uri": "https://localhost:8080/"
        },
        "id": "DRMll_LwVvJR",
        "outputId": "cd8b22d0-82a9-42a0-acf2-35b54de51308"
      },
      "execution_count": 21,
      "outputs": [
        {
          "output_type": "stream",
          "name": "stdout",
          "text": [
            "6\n"
          ]
        }
      ]
    },
    {
      "cell_type": "code",
      "source": [
        "matrix=[[1,2,3],[4,5,6],[7,8,9]]\n",
        "matrix[1][0]=0\n",
        "print(matrix)"
      ],
      "metadata": {
        "colab": {
          "base_uri": "https://localhost:8080/"
        },
        "id": "H-4MrqWKVvVz",
        "outputId": "c12a7db3-c4e5-48e5-ce7e-c769ecc10eea"
      },
      "execution_count": 22,
      "outputs": [
        {
          "output_type": "stream",
          "name": "stdout",
          "text": [
            "[[1, 2, 3], [0, 5, 6], [7, 8, 9]]\n"
          ]
        }
      ]
    }
  ]
}